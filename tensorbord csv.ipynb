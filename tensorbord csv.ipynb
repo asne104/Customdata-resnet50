{
 "cells": [
  {
   "cell_type": "code",
   "execution_count": 7,
   "metadata": {},
   "outputs": [],
   "source": [
    "import tensorflow as tf\n",
    "import csv\n",
    "import os\n",
    "\n",
    "# 이벤트 파일 경로 설정\n",
    "event_file_path = 'C:/Users/A/Desktop/resnet50_best/Mar14_10-08-38_2nd parameter/events.out.tfevents.1710378518.DESKTOP-VBNQV1L.15592.0'\n",
    "\n",
    "# CSV 파일로 저장할 경로 설정\n",
    "csv_file_path = event_file_path + '.csv'\n",
    "\n",
    "# 데이터를 저장할 딕셔너리 초기화\n",
    "data = {}\n",
    "\n",
    "# 이벤트 파일 열기 및 데이터 읽기\n",
    "for e in tf.compat.v1.train.summary_iterator(event_file_path):\n",
    "    for v in e.summary.value:\n",
    "        if v.tag in [\"Training Loss\", \"Validation Loss\"]:\n",
    "            if e.step not in data:\n",
    "                data[e.step] = {\"Training Loss\": None, \"Validation Loss\": None}\n",
    "            data[e.step][v.tag] = v.simple_value\n",
    "\n",
    "# CSV 파일을 쓰기 모드로 열기\n",
    "with open(csv_file_path, 'w', newline='') as csvfile:\n",
    "    csv_writer = csv.writer(csvfile)\n",
    "    # CSV 헤더 작성\n",
    "    csv_writer.writerow(['Epoch', 'Training Loss', 'Validation Loss'])\n",
    "\n",
    "    # 데이터 쓰기\n",
    "    for step in sorted(data.keys()):\n",
    "        row = [step, data[step][\"Training Loss\"], data[step][\"Validation Loss\"]]\n",
    "        csv_writer.writerow(row)\n"
   ]
  },
  {
   "cell_type": "code",
   "execution_count": null,
   "metadata": {},
   "outputs": [],
   "source": []
  },
  {
   "cell_type": "code",
   "execution_count": null,
   "metadata": {},
   "outputs": [],
   "source": []
  }
 ],
 "metadata": {
  "kernelspec": {
   "display_name": "Python 3",
   "language": "python",
   "name": "python3"
  },
  "language_info": {
   "codemirror_mode": {
    "name": "ipython",
    "version": 3
   },
   "file_extension": ".py",
   "mimetype": "text/x-python",
   "name": "python",
   "nbconvert_exporter": "python",
   "pygments_lexer": "ipython3",
   "version": "3.9.18"
  }
 },
 "nbformat": 4,
 "nbformat_minor": 2
}

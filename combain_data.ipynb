{
 "cells": [
  {
   "cell_type": "code",
   "execution_count": 2,
   "metadata": {},
   "outputs": [],
   "source": [
    "import shutil\n",
    "import os\n",
    "\n",
    "# 소스 폴더 목록\n",
    "source_folders = [\n",
    "    'C:\\\\Users\\\\A\\\\Desktop\\\\224_Data_\\\\R224_Xmin0_Xmax2_Ymin0_Ymax2_e0-4',\n",
    "    'C:\\\\Users\\\\A\\\\Desktop\\\\224_Data_\\\\R224_Xmin0_Xmax2_Ymin0_Ymax2_e5-6',\n",
    "    'C:\\\\Users\\\\A\\\\Desktop\\\\224_Data_\\\\R224_Xmin0_Xmax2_Ymin0_Ymax2_e7-8\\\\R224_Xmin0_Xmax2_Ymin0_Ymax2_e78',\n",
    "    'C:\\\\Users\\\\A\\\\Desktop\\\\224_Data_\\\\R224_Xmin0_Xmax2_Ymin0_Ymax2_e-9',\n",
    "    'C:\\\\Users\\\\A\\\\Desktop\\\\224_Data_\\\\R224_Xmin0_Xmax2_Ymin0_Ymax2_e-10\\\\R224_Xmin0_Xmax2_Ymin0_Ymax2_e10'\n",
    "]\n",
    "\n",
    "# 대상 폴더 경로\n",
    "destination_folder = 'C:\\\\Users\\\\A\\\\Desktop\\\\224_Data'\n",
    "\n",
    "# 대상 폴더가 존재하지 않는다면 생성\n",
    "if not os.path.exists(destination_folder):\n",
    "    os.makedirs(destination_folder)\n",
    "\n",
    "# 각 소스 폴더에서 파일을 대상 폴더로 이동\n",
    "for folder in source_folders:\n",
    "    for filename in os.listdir(folder):\n",
    "        source_file = os.path.join(folder, filename)\n",
    "        destination_file = os.path.join(destination_folder, filename)\n",
    "\n",
    "        # 대상 폴더에 동일한 이름의 파일이 이미 존재하는 경우 처리\n",
    "        # 예: 파일 이름에 번호 추가, 덮어쓰기 경고 등\n",
    "        if os.path.exists(destination_file):\n",
    "            print(f\"파일이 이미 존재합니다: {destination_file}\")\n",
    "            # 필요한 경우 여기에 추가적인 처리 로직을 구현하세요.\n",
    "            continue\n",
    "\n",
    "        # 파일 이동\n",
    "        shutil.move(source_file, destination_file)\n"
   ]
  },
  {
   "cell_type": "code",
   "execution_count": null,
   "metadata": {},
   "outputs": [],
   "source": []
  }
 ],
 "metadata": {
  "kernelspec": {
   "display_name": "res",
   "language": "python",
   "name": "python3"
  },
  "language_info": {
   "codemirror_mode": {
    "name": "ipython",
    "version": 3
   },
   "file_extension": ".py",
   "mimetype": "text/x-python",
   "name": "python",
   "nbconvert_exporter": "python",
   "pygments_lexer": "ipython3",
   "version": "3.8.18"
  }
 },
 "nbformat": 4,
 "nbformat_minor": 2
}

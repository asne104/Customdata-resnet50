{
 "cells": [
  {
   "cell_type": "code",
   "execution_count": 16,
   "metadata": {},
   "outputs": [],
   "source": [
    "import pandas as pd\n",
    "import os\n",
    "\n",
    "# CSV 파일이 있는 폴더 경로 설정\n",
    "folder_path = 'C:\\\\Users\\\\A\\\\Desktop\\\\combined'\n",
    "\n",
    "# 폴더 내의 모든 txt 파일 리스트\n",
    "txt_files = [f for f in os.listdir(folder_path) if f.endswith('.txt')]\n",
    "txt_files.sort()  # 파일을 정렬하여 순서대로 처리\n",
    "\n",
    "# 모든 txt 파일을 DataFrame으로 읽어들이고, 첫 번째 파일을 제외한 나머지 파일에서는 첫 번째 줄을 건너뜀\n",
    "dataframes = []\n",
    "for i, f in enumerate(txt_files):\n",
    "    file_path = os.path.join(folder_path, f)\n",
    "    if i == 0:\n",
    "        # 첫 번째 파일은 헤더 포함하여 읽기\n",
    "        df = pd.read_csv(file_path, sep=',')  # 구분자가 쉼표인 경우\n",
    "    else:\n",
    "        # 이후 파일은 첫 번째 줄(헤더) 건너뛰고 읽기\n",
    "        df = pd.read_csv(file_path, sep=',', skiprows=1, header=None, names=dataframes[0].columns)\n",
    "    dataframes.append(df)\n",
    "\n",
    "# DataFrame들을 하나로 합침\n",
    "combined_df = pd.concat(dataframes, ignore_index=True)\n",
    "\n",
    "# 'num_txt' 열을 1부터 시작하는 새로운 순서로 설정\n",
    "combined_df['num_txt'] = range(1, len(combined_df) + 1)\n",
    "\n",
    "# 합친 DataFrame을 새 txt 파일로 저장\n",
    "output_path = os.path.join(folder_path, 'combined_with_updated_numbers_and_skipped_header.txt')\n",
    "combined_df.to_csv(output_path, sep=',', index=False, float_format='%.2f')\n"
   ]
  },
  {
   "cell_type": "code",
   "execution_count": 11,
   "metadata": {},
   "outputs": [],
   "source": [
    "\n"
   ]
  },
  {
   "cell_type": "code",
   "execution_count": null,
   "metadata": {},
   "outputs": [],
   "source": []
  }
 ],
 "metadata": {
  "kernelspec": {
   "display_name": "custom",
   "language": "python",
   "name": "python3"
  },
  "language_info": {
   "codemirror_mode": {
    "name": "ipython",
    "version": 3
   },
   "file_extension": ".py",
   "mimetype": "text/x-python",
   "name": "python",
   "nbconvert_exporter": "python",
   "pygments_lexer": "ipython3",
   "version": "3.8.18"
  }
 },
 "nbformat": 4,
 "nbformat_minor": 2
}

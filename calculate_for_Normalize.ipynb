{
 "cells": [
  {
   "cell_type": "code",
   "execution_count": 4,
   "metadata": {},
   "outputs": [],
   "source": [
    "import os\n",
    "import numpy as np"
   ]
  },
  {
   "cell_type": "code",
   "execution_count": 2,
   "metadata": {},
   "outputs": [],
   "source": [
    "# 데이터셋 및 라벨 파일 경로 설정\n",
    "data_folder = 'C:/Users/A/Desktop/224_Data'\n",
    "train_data_folder = data_folder + '/Train'\n",
    "test_data_folder = data_folder + '/Test'\n",
    "train_label_file = train_data_folder + '/train_labels.txt'\n",
    "test_label_file = test_data_folder + '/test_labels.txt'"
   ]
  },
  {
   "cell_type": "code",
   "execution_count": 5,
   "metadata": {},
   "outputs": [
    {
     "ename": "NameError",
     "evalue": "name 'mean' is not defined",
     "output_type": "error",
     "traceback": [
      "\u001b[1;31m---------------------------------------------------------------------------\u001b[0m",
      "\u001b[1;31mNameError\u001b[0m                                 Traceback (most recent call last)",
      "Cell \u001b[1;32mIn[5], line 23\u001b[0m\n\u001b[0;32m     20\u001b[0m combined_data \u001b[38;5;241m=\u001b[39m load_and_combine_data(train_data_folder)\n\u001b[0;32m     21\u001b[0m matrix_mean, matrix_std \u001b[38;5;241m=\u001b[39m calculate_statistics(combined_data)\n\u001b[1;32m---> 23\u001b[0m mean \u001b[38;5;241m=\u001b[39m \u001b[38;5;28mstr\u001b[39m(\u001b[43mmean\u001b[49m)\n",
      "\u001b[1;31mNameError\u001b[0m: name 'mean' is not defined"
     ]
    }
   ],
   "source": [
    "#calculate for normalize(mean,std)\n",
    "def load_and_combine_data(train_data_folder):\n",
    "    file_paths = [os.path.join(train_data_folder, f) for f in os.listdir(train_data_folder) if f.endswith('9.txt')]\n",
    "    all_data = []\n",
    "\n",
    "    for file_path in file_paths:\n",
    "        #Loading arrary data from each txt file\n",
    "        data = np.loadtxt(file_path)\n",
    "        all_data.append(data)\n",
    "\n",
    "    #combine all data to one file\n",
    "    combined_data = np.concatenate(all_data, axis=0)\n",
    "    return combined_data\n",
    "\n",
    "def calculate_statistics(data):\n",
    "    mean = np.mean(data)\n",
    "    std = np.std(data)\n",
    "    return mean, std\n",
    "\n",
    "combined_data = load_and_combine_data(train_data_folder)\n",
    "matrix_mean, matrix_std = calculate_statistics(combined_data)\n"
   ]
  },
  {
   "cell_type": "code",
   "execution_count": 12,
   "metadata": {},
   "outputs": [
    {
     "name": "stdout",
     "output_type": "stream",
     "text": [
      "matrix_mean = -0.019175920669329275\n",
      "matrix_std = 0.09508734685529101\n"
     ]
    }
   ],
   "source": [
    "#check the mean and std \n",
    "print('matrix_mean =',matrix_mean)\n",
    "print('matrix_std =',matrix_std)\n"
   ]
  },
  {
   "cell_type": "code",
   "execution_count": null,
   "metadata": {},
   "outputs": [],
   "source": []
  }
 ],
 "metadata": {
  "kernelspec": {
   "display_name": "tor",
   "language": "python",
   "name": "python3"
  },
  "language_info": {
   "codemirror_mode": {
    "name": "ipython",
    "version": 3
   },
   "file_extension": ".py",
   "mimetype": "text/x-python",
   "name": "python",
   "nbconvert_exporter": "python",
   "pygments_lexer": "ipython3",
   "version": "3.8.18"
  }
 },
 "nbformat": 4,
 "nbformat_minor": 2
}

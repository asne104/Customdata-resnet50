{
 "cells": [
  {
   "cell_type": "code",
   "execution_count": 1,
   "metadata": {},
   "outputs": [],
   "source": [
    "import os\n",
    "import shutil\n",
    "import numpy as np\n",
    "from sklearn.model_selection import train_test_split"
   ]
  },
  {
   "cell_type": "code",
   "execution_count": 2,
   "metadata": {},
   "outputs": [],
   "source": [
    "\n",
    "path = \"C:\\\\Users\\\\A\\\\Desktop\\\\224_Data\"\n",
    "\n",
    "# 끝자리가 9인 파일만 선택\n",
    "filtered_files = [file for file in os.listdir(path) if file.endswith(\"9.txt\")]\n",
    "\n",
    "# 매트릭스 데이터와 파일 이름을 매핑\n",
    "file_matrix_map = {}\n",
    "\n",
    "for file_name in filtered_files:\n",
    "    file_path = os.path.join(path, file_name)\n",
    "    \n",
    "    with open(file_path, 'r') as file:\n",
    "        matrix = np.array([line.split() for line in file], dtype=float)\n",
    "        file_matrix_map[file_name] = matrix\n",
    "\n",
    "# 모든 매트릭스를 리스트로 결합\n",
    "all_matrices = list(file_matrix_map.values())\n"
   ]
  },
  {
   "cell_type": "code",
   "execution_count": 3,
   "metadata": {},
   "outputs": [],
   "source": [
    "\n",
    "# 데이터 세트를 훈련, 테스트 세트로 분할 (예: 80% 훈련, 20% 테스트)\n",
    "train_indices, test_indices = train_test_split(range(len(all_matrices)), test_size=0.2, random_state=42)\n"
   ]
  },
  {
   "cell_type": "code",
   "execution_count": 4,
   "metadata": {},
   "outputs": [],
   "source": [
    "# 파일 이름 리스트 생성\n",
    "train_files = [filtered_files[i] for i in train_indices]\n",
    "test_files = [filtered_files[i] for i in test_indices]\n",
    "\n",
    "# 새 폴더 경로 설정\n",
    "train_folder = \"C:\\\\Users\\\\A\\\\Desktop\\\\224_Data/Train\"\n",
    "test_folder = \"C:\\\\Users\\\\A\\\\Desktop\\\\224_Data/Test\"\n",
    "other_folder = \"C:\\\\Users\\\\A\\\\Desktop\\\\224_Data/Other\"\n",
    "\n",
    "# 필요한 경우 새 폴더 생성\n",
    "os.makedirs(train_folder, exist_ok=True)\n",
    "os.makedirs(test_folder, exist_ok=True)\n",
    "os.makedirs(other_folder, exist_ok=True)\n",
    "\n",
    "# 각 세트에 속하는 파일을 적절한 폴더로 이동\n",
    "for file_name in train_files:\n",
    "    shutil.move(os.path.join(path, file_name), train_folder)\n",
    "\n",
    "for file_name in test_files:\n",
    "    shutil.move(os.path.join(path, file_name), test_folder)\n",
    "\n",
    "# 끝자리가 9가 아닌 나머지 파일들 선택\n",
    "other_files = [file for file in os.listdir(path) if file.endswith(\".txt\")]\n",
    "\n",
    "# 나머지 파일들을 other_folder로 이동\n",
    "for file_name in other_files:\n",
    "    shutil.move(os.path.join(path, file_name), other_folder)\n"
   ]
  },
  {
   "cell_type": "code",
   "execution_count": null,
   "metadata": {},
   "outputs": [],
   "source": []
  }
 ],
 "metadata": {
  "kernelspec": {
   "display_name": "custom",
   "language": "python",
   "name": "python3"
  },
  "language_info": {
   "codemirror_mode": {
    "name": "ipython",
    "version": 3
   },
   "file_extension": ".py",
   "mimetype": "text/x-python",
   "name": "python",
   "nbconvert_exporter": "python",
   "pygments_lexer": "ipython3",
   "version": "3.8.18"
  }
 },
 "nbformat": 4,
 "nbformat_minor": 2
}

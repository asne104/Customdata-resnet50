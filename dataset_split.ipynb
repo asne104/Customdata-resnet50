{
 "cells": [
  {
   "cell_type": "code",
   "execution_count": 1,
   "metadata": {},
   "outputs": [],
   "source": [
    "import os\n",
    "import shutil\n",
    "from sklearn.model_selection import train_test_split\n",
    "\n",
    "# 파일이 저장된 기본 경로\n",
    "base_path = \"C:\\\\Users\\\\A\\\\Desktop\\\\224_Data\"\n",
    "path = os.path.join(base_path, \"1\")\n",
    "\n",
    "# 끝자리가 9인 파일만 선택\n",
    "filtered_files = [file for file in os.listdir(path) if file.endswith(\"9.txt\")]\n",
    "\n",
    "# 데이터 세트를 훈련 세트와 나머지(test+val)로 분할 (8:2)\n",
    "train_indices, test_val_indices = train_test_split(\n",
    "    range(len(filtered_files)), \n",
    "    test_size=0.2, \n",
    "    random_state=42\n",
    ")\n",
    "\n",
    "# 나머지를 검증 세트와 테스트 세트로 분할 (1:1)\n",
    "val_indices, test_indices = train_test_split(\n",
    "    test_val_indices, \n",
    "    test_size=0.5, \n",
    "    random_state=42\n",
    ")\n",
    "\n",
    "# 인덱스를 사용하여 파일 이름 리스트 생성\n",
    "train_files = [filtered_files[i] for i in train_indices]\n",
    "val_files = [filtered_files[i] for i in val_indices]\n",
    "test_files = [filtered_files[i] for i in test_indices]\n",
    "\n",
    "# 새 폴더 경로 설정\n",
    "train_folder = os.path.join(base_path, \"Train\")\n",
    "val_folder = os.path.join(base_path, \"Validation\")\n",
    "test_folder = os.path.join(base_path, \"Test\")\n",
    "\n",
    "# 필요한 경우 새 폴더 생성\n",
    "os.makedirs(train_folder, exist_ok=True)\n",
    "os.makedirs(val_folder, exist_ok=True)\n",
    "os.makedirs(test_folder, exist_ok=True)\n",
    "\n",
    "# 각 세트에 속하는 파일을 적절한 폴더로 이동\n",
    "for file_name in train_files:\n",
    "    shutil.move(os.path.join(path, file_name), train_folder)\n",
    "\n",
    "for file_name in val_files:\n",
    "    shutil.move(os.path.join(path, file_name), val_folder)\n",
    "\n",
    "for file_name in test_files:\n",
    "    shutil.move(os.path.join(path, file_name), test_folder)\n"
   ]
  },
  {
   "cell_type": "code",
   "execution_count": null,
   "metadata": {},
   "outputs": [],
   "source": []
  }
 ],
 "metadata": {
  "kernelspec": {
   "display_name": "custom",
   "language": "python",
   "name": "python3"
  },
  "language_info": {
   "codemirror_mode": {
    "name": "ipython",
    "version": 3
   },
   "file_extension": ".py",
   "mimetype": "text/x-python",
   "name": "python",
   "nbconvert_exporter": "python",
   "pygments_lexer": "ipython3",
   "version": "3.9.18"
  }
 },
 "nbformat": 4,
 "nbformat_minor": 2
}

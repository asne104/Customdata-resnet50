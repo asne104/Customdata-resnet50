{
 "cells": [
  {
   "cell_type": "code",
   "execution_count": 4,
   "metadata": {},
   "outputs": [],
   "source": [
    "import os\n",
    "\n",
    "def load_filenames(folder_path):\n",
    "    \"\"\"폴더 내의 모든 파일명을 로드하는 함수\"\"\"\n",
    "    return {os.path.splitext(filename)[0] for filename in os.listdir(folder_path) if filename.endswith('.txt')}\n",
    "\n",
    "def classify_and_save_labels(label_file, train_filenames, test_filenames, output_dir):\n",
    "    \"\"\"라벨 데이터를 분류하고 텍스트 파일로 저장하는 함수\"\"\"\n",
    "    train_labels, test_labels, other_labels = [], [], []\n",
    "\n",
    "    with open(label_file, 'r') as file:\n",
    "        header = next(file)  # 헤더 저장\n",
    "        for line in file:\n",
    "            data_number = line.split(',')[0]\n",
    "            if data_number in train_filenames:\n",
    "                train_labels.append(line)\n",
    "            elif data_number in test_filenames:\n",
    "                test_labels.append(line)\n",
    "            else:\n",
    "                other_labels.append(line)\n",
    "\n",
    "    # 결과를 텍스트 파일로 저장\n",
    "    for name, data in [('train_labels.txt', train_labels), ('test_labels.txt', test_labels), ('other_labels.txt', other_labels)]:\n",
    "        with open(os.path.join(output_dir, name), 'w') as f:\n",
    "            f.write(header)  # 헤더 작성\n",
    "            for line in data:\n",
    "                f.write(line)\n",
    "\n",
    "# 훈련 및 테스트 데이터 폴더 내의 파일명 로드\n",
    "train_data_folder = 'C:/Users/A/Desktop/224_Data/Train'\n",
    "test_data_folder = 'C:/Users/A/Desktop/224_Data/Test'\n",
    "output_dir = 'C:/Users/A/Desktop/224_Data'  # 결과를 저장할 디렉토리\n",
    "\n",
    "train_filenames = load_filenames(train_data_folder)\n",
    "test_filenames = load_filenames(test_data_folder)\n",
    "\n",
    "# 라벨 데이터 분류 및 텍스트 파일로 저장\n",
    "classify_and_save_labels(parameters_file, train_filenames, test_filenames, output_dir)\n"
   ]
  },
  {
   "cell_type": "code",
   "execution_count": null,
   "metadata": {},
   "outputs": [],
   "source": []
  }
 ],
 "metadata": {
  "kernelspec": {
   "display_name": "custom",
   "language": "python",
   "name": "python3"
  },
  "language_info": {
   "codemirror_mode": {
    "name": "ipython",
    "version": 3
   },
   "file_extension": ".py",
   "mimetype": "text/x-python",
   "name": "python",
   "nbconvert_exporter": "python",
   "pygments_lexer": "ipython3",
   "version": "3.8.18"
  }
 },
 "nbformat": 4,
 "nbformat_minor": 2
}
